{
 "cells": [
  {
   "cell_type": "markdown",
   "id": "8671edae",
   "metadata": {},
   "source": [
    "# Customer Support Chatbot — Notebook\n",
    "\n",
    "This notebook documents the whole workflow: data loading, preprocessing, training, evaluation, and a small demo."
   ]
  },
  {
   "cell_type": "markdown",
   "id": "50784933",
   "metadata": {},
   "source": [
    "## 1. Environment & quick checks"
   ]
  },
  {
   "cell_type": "code",
   "execution_count": null,
   "id": "61f5b971",
   "metadata": {},
   "outputs": [],
   "source": [
    "import sys\n",
    "import os\n",
    "print('Python:', sys.version.splitlines()[0])\n",
    "try:\n",
    "    import tensorflow as tf\n",
    "    print('TensorFlow:', tf.__version__)\n",
    "except Exception as e:\n",
    "    print('TensorFlow import error:', e)\n",
    "\n",
    "try:\n",
    "    import transformers\n",
    "    print('transformers:', transformers.__version__)\n",
    "except Exception as e:\n",
    "    print('transformers import error:', e)\n",
    "\n",
    "import pandas as pd\n",
    "print('pandas:', pd.__version__)"
   ]
  },
  {
   "cell_type": "markdown",
   "id": "0fc29edc",
   "metadata": {},
   "source": [
    "## 2. Load dataset\n",
    "\n",
    "Make sure your CSV is at `data/customer_support_data.csv`. The notebook will show a few rows. If your CSV has a different name, update the path below."
   ]
  },
  {
   "cell_type": "code",
   "execution_count": null,
   "id": "6c4bd5ec",
   "metadata": {},
   "outputs": [],
   "source": [
    "DATA_CSV = 'data/customer_support_data.csv'\n",
    "\n",
    "import os\n",
    "assert os.path.exists(DATA_CSV), f\"Dataset file not found: {DATA_CSV}\"\n",
    "import pandas as pd\n",
    "df = pd.read_csv(DATA_CSV, encoding='utf-8', dtype=str).fillna('')\n",
    "df.head(20)"
   ]
  },
  {
   "cell_type": "markdown",
   "id": "b3c2cb7c",
   "metadata": {},
   "source": [
    "## 3. Preprocessing\n",
    "\n",
    "We will try to use the project's `src/data_prep.py` utilities if present; otherwise run a small fallback cleaning here."
   ]
  },
  {
   "cell_type": "code",
   "execution_count": null,
   "id": "a523a39f",
   "metadata": {
    "jupyter": {
     "source_hidden": true
    }
   },
   "outputs": [],
   "source": [
    "USE_SRC = os.path.exists('src/data_prep.py')\n",
    "print('src/data_prep.py exists:', USE_SRC)\n",
    "\n",
    "if USE_SRC:\n",
    "    from src.data_prep import load_and_prepare\n",
    "    df_preview, encodings, decodings, tokenizer = load_and_prepare(DATA_CSV)\n",
    "    print('Loaded and tokenized via src.data_prep.load_and_prepare')\n",
    "    print('Sample inputs from df_preview:')\n",
    "    display(df_preview.head(10))\n",
    "else:\n",
    "    # Fallback: build simple input_text and target_text\n",
    "    df['input_text'] = ('context: ' + df['context'].astype(str) + ' user: ' + df['user'].astype(str)).str.strip()\n",
    "    df['target_text'] = df['agent'].astype(str)\n",
    "    print('Built input_text and target_text columns in-place')\n",
    "    display(df.head(10))"
   ]
  },
  {
   "cell_type": "markdown",
   "id": "f63d74b1",
   "metadata": {},
   "source": [
    "## 4. Fine-tune the model\n",
    "\n",
    "This notebook includes an optional training cell. Training T5 locally can be slow. If you already trained using `src/train.py`, skip this cell."
   ]
  },
  {
   "cell_type": "code",
   "execution_count": null,
   "id": "e2318ad7",
   "metadata": {},
   "outputs": [],
   "source": [
    "# Optional training cell - commented out by default. Remove surrounding comments to run.\n",
    "# from transformers import T5Tokenizer, TFT5ForConditionalGeneration\n",
    "# import tensorflow as tf\n",
    "#\n",
    "# MODEL_NAME = 't5-small'\n",
    "# tokenizer = T5Tokenizer.from_pretrained(MODEL_NAME)\n",
    "# model = TFT5ForConditionalGeneration.from_pretrained(MODEL_NAME)\n",
    "#\n",
    "# # Prepare small dataset example (use df)\n",
    "# inputs = tokenizer((df['input_text'][:200].tolist()), truncation=True, padding='max_length', max_length=128, return_tensors='tf')\n",
    "# targets = tokenizer((df['target_text'][:200].tolist()), truncation=True, padding='max_length', max_length=64, return_tensors='tf')\n",
    "#\n",
    "# dataset = tf.data.Dataset.from_tensor_slices(({'input_ids':inputs['input_ids'],'attention_mask':inputs['attention_mask']}, targets['input_ids'])).batch(4)\n",
    "# optimizer = tf.keras.optimizers.Adam(learning_rate=3e-5)\n",
    "# model.compile(optimizer=optimizer, loss=model.compute_loss)\n",
    "# model.fit(dataset, epochs=1)\n",
    "# # Save to checkpoints if desired\n",
    "# model.save_pretrained('./checkpoints_notebook')\n",
    "# tokenizer.save_pretrained('./checkpoints_notebook')\n"
   ]
  },
  {
   "cell_type": "markdown",
   "id": "61c97e2b",
   "metadata": {},
   "source": [
    "## 5. Load fine-tuned checkpoint (or pre-trained model)\n",
    "\n",
    "If you trained earlier and saved to `checkpoints/`, we'll load that. Otherwise load `t5-small` base model."
   ]
  },
  {
   "cell_type": "code",
   "execution_count": null,
   "id": "25741c79",
   "metadata": {},
   "outputs": [],
   "source": [
    "from transformers import T5Tokenizer, TFT5ForConditionalGeneration\n",
    "\n",
    "CKPT_DIR = 'checkpoints'\n",
    "if os.path.exists(CKPT_DIR):\n",
    "    print('Loading model from', CKPT_DIR)\n",
    "    tokenizer = T5Tokenizer.from_pretrained(CKPT_DIR)\n",
    "    model = TFT5ForConditionalGeneration.from_pretrained(CKPT_DIR)\n",
    "else:\n",
    "    print('No checkpoints found; loading base t5-small from Hugging Face')\n",
    "    tokenizer = T5Tokenizer.from_pretrained('t5-small')\n",
    "    model = TFT5ForConditionalGeneration.from_pretrained('t5-small')\n",
    "\n",
    "print('Model and tokenizer ready')"
   ]
  },
  {
   "cell_type": "markdown",
   "id": "3e7a3858",
   "metadata": {},
   "source": [
    "## 6. Sample inference\n",
    "\n",
    "Run a few examples to see model outputs."
   ]
  },
  {
   "cell_type": "code",
   "execution_count": null,
   "id": "745c954b",
   "metadata": {},
   "outputs": [],
   "source": [
    "def generate_reply(text, max_length=64):\n",
    "    input_text = text\n",
    "    inputs = tokenizer(input_text, return_tensors='tf', truncation=True, padding=True)\n",
    "    gen = model.generate(input_ids=inputs['input_ids'], attention_mask=inputs['attention_mask'], max_length=max_length, num_beams=4)\n",
    "    return tokenizer.decode(gen[0], skip_special_tokens=True)\n",
    "\n",
    "# Test a few\n",
    "examples = [\n",
    "    'Hi, I need help with my order.',\n",
    "    'How can I return a product?',\n",
    "    'My package arrived damaged.'\n",
    "]\n",
    "for ex in examples:\n",
    "    print('>>', ex)\n",
    "    print('->', generate_reply('question: ' + ex))\n",
    "    print('')"
   ]
  },
  {
   "cell_type": "markdown",
   "id": "8653dd82",
   "metadata": {},
   "source": [
    "## 7. Evaluation (BLEU & simple exact-match)\n",
    "\n",
    "This runs a quick BLEU and exact-match accuracy on the validation split. For better metrics use sacrebleu/rouge in scripts."
   ]
  },
  {
   "cell_type": "code",
   "execution_count": null,
   "id": "37900739",
   "metadata": {},
   "outputs": [],
   "source": [
    "from sklearn.model_selection import train_test_split\n",
    "from nltk.translate.bleu_score import corpus_bleu\n",
    "\n",
    "# Build dataset in-memory if not already\n",
    "if 'input_text' not in df.columns:\n",
    "    df['input_text'] = ('context: ' + df['context'].astype(str) + ' user: ' + df['user'].astype(str)).str.strip()\n",
    "    df['target_text'] = df['agent'].astype(str)\n",
    "\n",
    "train_df, val_df = train_test_split(df, test_size=0.2, random_state=42)\n",
    "\n",
    "preds = []\n",
    "refs = []\n",
    "for i, row in val_df.iterrows():\n",
    "    src = row['input_text']\n",
    "    tgt = row['target_text']\n",
    "    out = generate_reply('question: ' + src, max_length=64)\n",
    "    preds.append(out.split())\n",
    "    refs.append([tgt.split()])\n",
    "\n",
    "# corpus_bleu expects list of references per sentence\n",
    "bleu_score = corpus_bleu(refs, preds) if len(preds)>0 else 0.0\n",
    "\n",
    "# simple exact-match accuracy\n",
    "exact = sum(1 for p, r in zip([' '.join(p) for p in preds], [r[0] for r in refs]) if p.strip()==r.strip())\n",
    "acc = exact / len(preds) if preds else 0.0\n",
    "\n",
    "print('BLEU (corpus):', bleu_score)\n",
    "print('Exact-match accuracy:', acc)"
   ]
  },
  {
   "cell_type": "markdown",
   "id": "8203987f",
   "metadata": {},
   "source": [
    "## 8. Save sample predictions (for the report)\n",
    "\n",
    "We'll save a small CSV of predictions vs references to `notebooks/predictions_sample.csv`."
   ]
  },
  {
   "cell_type": "code",
   "execution_count": null,
   "id": "b57fc47c",
   "metadata": {},
   "outputs": [],
   "source": [
    "out_rows = []\n",
    "for i, row in val_df.head(50).iterrows():\n",
    "    src = row['input_text']\n",
    "    tgt = row['target_text']\n",
    "    out = generate_reply('question: ' + src, max_length=64)\n",
    "    out_rows.append({'input': src, 'reference': tgt, 'prediction': out})\n",
    "import csv\n",
    "os.makedirs('notebooks', exist_ok=True)\n",
    "with open('notebooks/predictions_sample.csv', 'w', newline='', encoding='utf-8') as f:\n",
    "    writer = csv.DictWriter(f, fieldnames=['input','reference','prediction'])\n",
    "    writer.writeheader()\n",
    "    writer.writerows(out_rows)\n",
    "print('Saved sample predictions to notebooks/predictions_sample.csv')"
   ]
  }
 ],
 "metadata": {
  "kernelspec": {
   "display_name": "Python 3 (ipykernel)",
   "language": "python",
   "name": "python3"
  },
  "language_info": {
   "codemirror_mode": {
    "name": "ipython",
    "version": 3
   },
   "file_extension": ".py",
   "mimetype": "text/x-python",
   "name": "python",
   "nbconvert_exporter": "python",
   "pygments_lexer": "ipython3",
   "version": "3.11.0"
  }
 },
 "nbformat": 4,
 "nbformat_minor": 5
}
